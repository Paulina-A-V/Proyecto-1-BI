{
 "cells": [
  {
   "cell_type": "markdown",
   "metadata": {},
   "source": [
    "# Proyecto 1 - Etapa 1"
   ]
  },
  {
   "cell_type": "code",
   "execution_count": 37,
   "metadata": {},
   "outputs": [],
   "source": [
    "import pandas as pd\n",
    "import nltk\n",
    "\n",
    "from sklearn.preprocessing import LabelEncoder\n",
    "from sklearn.tree import DecisionTreeClassifier \n",
    "from sklearn.model_selection import train_test_split\n",
    "from sklearn.metrics import confusion_matrix, classification_report, precision_score, recall_score, f1_score, accuracy_score\n",
    "\n",
    "from sklearn.metrics import ConfusionMatrixDisplay\n",
    "\n",
    "from sklearn.model_selection import GridSearchCV\n",
    "from sklearn.model_selection import KFold \n",
    "import matplotlib.pyplot as plt\n",
    "import seaborn as sns \n",
    "from sklearn import tree\n",
    "import sklearn as sklearn\n",
    "from joblib import dump, load\n",
    "from sklearn.feature_extraction.text import TfidfVectorizer, CountVectorizer, HashingVectorizer\n",
    "\n",
    "from nltk import word_tokenize, sent_tokenize\n",
    "from nltk.corpus import stopwords\n",
    "from nltk.stem import SnowballStemmer, WordNetLemmatizer"
   ]
  },
  {
   "cell_type": "code",
   "execution_count": 38,
   "metadata": {},
   "outputs": [
    {
     "name": "stderr",
     "output_type": "stream",
     "text": [
      "[nltk_data] Downloading package punkt to C:\\Users\\Alejandro\n",
      "[nltk_data]     Lancheros\\AppData\\Roaming\\nltk_data...\n",
      "[nltk_data]   Package punkt is already up-to-date!\n",
      "[nltk_data] Downloading package stopwords to C:\\Users\\Alejandro\n",
      "[nltk_data]     Lancheros\\AppData\\Roaming\\nltk_data...\n",
      "[nltk_data]   Package stopwords is already up-to-date!\n",
      "[nltk_data] Error loading stopwords-es: Package 'stopwords-es' not\n",
      "[nltk_data]     found in index\n",
      "[nltk_data] Downloading package wordnet to C:\\Users\\Alejandro\n",
      "[nltk_data]     Lancheros\\AppData\\Roaming\\nltk_data...\n",
      "[nltk_data]   Package wordnet is already up-to-date!\n",
      "[nltk_data] Downloading package punkt_tab to C:\\Users\\Alejandro\n",
      "[nltk_data]     Lancheros\\AppData\\Roaming\\nltk_data...\n",
      "[nltk_data]   Package punkt_tab is already up-to-date!\n"
     ]
    },
    {
     "data": {
      "text/plain": [
       "True"
      ]
     },
     "execution_count": 38,
     "metadata": {},
     "output_type": "execute_result"
    }
   ],
   "source": [
    "nltk.download('punkt')\n",
    "nltk.download('stopwords')\n",
    "nltk.download('stopwords-es')\n",
    "nltk.download('wordnet')\n",
    "nltk.download('punkt_tab')"
   ]
  },
  {
   "cell_type": "markdown",
   "metadata": {},
   "source": [
    "# 1. Carga de datos"
   ]
  },
  {
   "cell_type": "code",
   "execution_count": 39,
   "metadata": {},
   "outputs": [],
   "source": [
    "pd.set_option(\"display.max_columns\", None)\n",
    "pd.set_option(\"display.max_rows\", 20)\n",
    "news=pd.read_csv(\"./fake_news.csv\", sep=\";\")\n",
    "data= news.copy()"
   ]
  },
  {
   "cell_type": "code",
   "execution_count": 40,
   "metadata": {},
   "outputs": [
    {
     "data": {
      "text/plain": [
       "(57063, 5)"
      ]
     },
     "execution_count": 40,
     "metadata": {},
     "output_type": "execute_result"
    }
   ],
   "source": [
    "data.shape"
   ]
  },
  {
   "cell_type": "code",
   "execution_count": 41,
   "metadata": {},
   "outputs": [
    {
     "data": {
      "text/html": [
       "<div>\n",
       "<style scoped>\n",
       "    .dataframe tbody tr th:only-of-type {\n",
       "        vertical-align: middle;\n",
       "    }\n",
       "\n",
       "    .dataframe tbody tr th {\n",
       "        vertical-align: top;\n",
       "    }\n",
       "\n",
       "    .dataframe thead th {\n",
       "        text-align: right;\n",
       "    }\n",
       "</style>\n",
       "<table border=\"1\" class=\"dataframe\">\n",
       "  <thead>\n",
       "    <tr style=\"text-align: right;\">\n",
       "      <th></th>\n",
       "      <th>ID</th>\n",
       "      <th>Label</th>\n",
       "      <th>Titulo</th>\n",
       "      <th>Descripcion</th>\n",
       "      <th>Fecha</th>\n",
       "    </tr>\n",
       "  </thead>\n",
       "  <tbody>\n",
       "    <tr>\n",
       "      <th>37695</th>\n",
       "      <td>ID</td>\n",
       "      <td>1</td>\n",
       "      <td>El exjefe de Asuntos Internos recurre contra s...</td>\n",
       "      <td>Martín Blas alega que su rectitud hace inveros...</td>\n",
       "      <td>02/09/2021</td>\n",
       "    </tr>\n",
       "    <tr>\n",
       "      <th>22485</th>\n",
       "      <td>ID</td>\n",
       "      <td>1</td>\n",
       "      <td>El PSPV se juega su éxito electoral a la forta...</td>\n",
       "      <td>La mayoría de los alcaldes del área metropolit...</td>\n",
       "      <td>02/05/2023</td>\n",
       "    </tr>\n",
       "    <tr>\n",
       "      <th>35803</th>\n",
       "      <td>ID</td>\n",
       "      <td>0</td>\n",
       "      <td>Desestimada la demanda de Abogados Cristianos ...</td>\n",
       "      <td>La asociación le reclamaba una indemnización d...</td>\n",
       "      <td>17/03/2021</td>\n",
       "    </tr>\n",
       "    <tr>\n",
       "      <th>41510</th>\n",
       "      <td>ID</td>\n",
       "      <td>1</td>\n",
       "      <td>La Ley de Suelo que quiere Ayuso: 'Barra libre...</td>\n",
       "      <td>Oposición, expertos y ecologistas recelan de l...</td>\n",
       "      <td>05/05/2020</td>\n",
       "    </tr>\n",
       "    <tr>\n",
       "      <th>41218</th>\n",
       "      <td>ID</td>\n",
       "      <td>1</td>\n",
       "      <td>Los partidos vascos apuran los preparativos de...</td>\n",
       "      <td>El PNV habla estos días de reconstrucción y EH...</td>\n",
       "      <td>21/06/2020</td>\n",
       "    </tr>\n",
       "  </tbody>\n",
       "</table>\n",
       "</div>"
      ],
      "text/plain": [
       "       ID  Label                                             Titulo  \\\n",
       "37695  ID      1  El exjefe de Asuntos Internos recurre contra s...   \n",
       "22485  ID      1  El PSPV se juega su éxito electoral a la forta...   \n",
       "35803  ID      0  Desestimada la demanda de Abogados Cristianos ...   \n",
       "41510  ID      1  La Ley de Suelo que quiere Ayuso: 'Barra libre...   \n",
       "41218  ID      1  Los partidos vascos apuran los preparativos de...   \n",
       "\n",
       "                                             Descripcion       Fecha  \n",
       "37695  Martín Blas alega que su rectitud hace inveros...  02/09/2021  \n",
       "22485  La mayoría de los alcaldes del área metropolit...  02/05/2023  \n",
       "35803  La asociación le reclamaba una indemnización d...  17/03/2021  \n",
       "41510  Oposición, expertos y ecologistas recelan de l...  05/05/2020  \n",
       "41218  El PNV habla estos días de reconstrucción y EH...  21/06/2020  "
      ]
     },
     "execution_count": 41,
     "metadata": {},
     "output_type": "execute_result"
    }
   ],
   "source": [
    "data.sample(5)"
   ]
  },
  {
   "cell_type": "markdown",
   "metadata": {},
   "source": [
    "Como podemos observar, nos encontramos con cinco variables dentro del dataset. En primer lugar, encontramos una columna \"Label\" la cual si bien no esta bien definido el nombre podemos concluir que indica la veracidad del registro asociado. Luego, hallamos variables de informacion sobre la noticia (Titulo, Descripcion y Fecha). Finalmente, tenemos la columna \"ID\", que en todas las filas analizadas aparece simplemente como \"ID\", en lugar de un identificador único. Esto sugiere que la columna podría no aportar valor al análisis y que probablemente deba ser eliminada para evitar información redundante o errónea."
   ]
  },
  {
   "cell_type": "markdown",
   "metadata": {},
   "source": [
    "# 2. Entendimiento de datos"
   ]
  },
  {
   "cell_type": "code",
   "execution_count": 42,
   "metadata": {},
   "outputs": [
    {
     "data": {
      "text/plain": [
       "ID             object\n",
       "Label           int64\n",
       "Titulo         object\n",
       "Descripcion    object\n",
       "Fecha          object\n",
       "dtype: object"
      ]
     },
     "execution_count": 42,
     "metadata": {},
     "output_type": "execute_result"
    }
   ],
   "source": [
    "data.dtypes"
   ]
  },
  {
   "cell_type": "markdown",
   "metadata": {},
   "source": [
    "no se realiza \".describe\" porque no tiene sentido en este caso porque como todos los datos son de categoricos menos el id no tiene sentido "
   ]
  },
  {
   "cell_type": "code",
   "execution_count": 43,
   "metadata": {},
   "outputs": [
    {
     "data": {
      "text/plain": [
       "ID              0\n",
       "Label           0\n",
       "Titulo         16\n",
       "Descripcion     0\n",
       "Fecha           0\n",
       "dtype: int64"
      ]
     },
     "execution_count": 43,
     "metadata": {},
     "output_type": "execute_result"
    }
   ],
   "source": [
    "data.isnull().sum()"
   ]
  },
  {
   "cell_type": "markdown",
   "metadata": {},
   "source": [
    "Se decide no quitar aquellos registros sin titulo dado que las descripciones pueden contener información valiosa, ademas se pueden manejar los valores nulos de otra manera como relleno o NLP "
   ]
  },
  {
   "cell_type": "code",
   "execution_count": 44,
   "metadata": {},
   "outputs": [
    {
     "name": "stdout",
     "output_type": "stream",
     "text": [
      "Label\n",
      "1    58.107706\n",
      "0    41.892294\n",
      "Name: proportion, dtype: float64\n"
     ]
    }
   ],
   "source": [
    "porcentajes = data['Label'].value_counts(normalize=True) * 100\n",
    "print(porcentajes)"
   ]
  },
  {
   "cell_type": "markdown",
   "metadata": {},
   "source": [
    "En estos resultados podemos observar que el 58% de las noticias son verdaderas y el otro 42% son falsas, lo cual hace que el dataset este relativamente balanceado."
   ]
  },
  {
   "cell_type": "code",
   "execution_count": 45,
   "metadata": {},
   "outputs": [
    {
     "data": {
      "image/png": "[encoded data removed]",
      "text/plain": [
       "<Figure size 1200x600 with 1 Axes>"
      ]
     },
     "metadata": {},
     "output_type": "display_data"
    }
   ],
   "source": [
    "from nltk.probability import FreqDist\n",
    "import random\n",
    "import matplotlib.pyplot as plt\n",
    "\n",
    "# Seleccionamos 5 descripciones al azar\n",
    "random_indices = random.sample(range(data.shape[0]), 5)\n",
    "text = ' '.join(data['Descripcion'][i] for i in random_indices)\n",
    "\n",
    "fdist = FreqDist(text.split())\n",
    "\n",
    "plt.figure(figsize=(12, 6))  \n",
    "fdist.plot(25, cumulative=False)\n",
    "plt.show()\n",
    "\n",
    "\n"
   ]
  },
  {
   "cell_type": "markdown",
   "metadata": {},
   "source": [
    "Se seleccionan 5 descripciones de registros al azar para encontrar las palabras más comunes en estos pedazos y tener un primer entendimiento de las palabras más predominantes que podemos llegar a encontrar, tambien se realiza un filtro para evitar articulos y preposiciones y asi generar palabras mas significativas. Como podemos observar, las palabras que mas se resaltan estam relacionadas con politica. "
   ]
  },
  {
   "cell_type": "code",
   "execution_count": 46,
   "metadata": {},
   "outputs": [
    {
     "data": {
      "text/plain": [
       "count                                                 57063\n",
       "unique                                                49638\n",
       "top       La Fundación En Acción ha participado con Públ...\n",
       "freq                                                      7\n",
       "Name: Descripcion, dtype: object"
      ]
     },
     "execution_count": 46,
     "metadata": {},
     "output_type": "execute_result"
    }
   ],
   "source": [
    "data['Descripcion'].describe()"
   ]
  },
  {
   "cell_type": "code",
   "execution_count": 47,
   "metadata": {},
   "outputs": [
    {
     "data": {
      "text/plain": [
       "ID                 1\n",
       "Label              2\n",
       "Titulo         51604\n",
       "Descripcion    49638\n",
       "Fecha           2271\n",
       "dtype: int64"
      ]
     },
     "execution_count": 47,
     "metadata": {},
     "output_type": "execute_result"
    }
   ],
   "source": [
    "data.nunique()"
   ]
  },
  {
   "cell_type": "markdown",
   "metadata": {},
   "source": [
    "Resgistros totales: 57063\n",
    "\n",
    "Registros unicos: 49638\n",
    "\n",
    "13% de las descripciones registros son duplicados\n",
    "\n",
    "Hay títulos que comparten la misma descripcion"
   ]
  },
  {
   "cell_type": "code",
   "execution_count": 48,
   "metadata": {},
   "outputs": [
    {
     "name": "stdout",
     "output_type": "stream",
     "text": [
      "Descripciones vacias: 0\n"
     ]
    }
   ],
   "source": [
    "# Buscamos registros vacios\n",
    "empty_texts = data[data['Descripcion'].str.strip() == '']\n",
    "print(f\"Descripciones vacias: {len(empty_texts)}\")"
   ]
  },
  {
   "cell_type": "markdown",
   "metadata": {},
   "source": [
    "# 3. Procesamiento"
   ]
  },
  {
   "cell_type": "markdown",
   "metadata": {},
   "source": [
    "### 3.1 Limpieza de datos"
   ]
  },
  {
   "cell_type": "markdown",
   "metadata": {},
   "source": [
    "Se eliminan los registros de las descripciones que estan repetidos porque el motor se puede confundir o puede aumentar el bias. Se deja la primera ocurrencia. Se elimina duplicados por que no coinciden los duplicados entre columnas y hay algunas que si tiene sentido la duplicidad (la fecha)"
   ]
  },
  {
   "cell_type": "code",
   "execution_count": 49,
   "metadata": {},
   "outputs": [
    {
     "data": {
      "text/plain": [
       "(49638, 5)"
      ]
     },
     "execution_count": 49,
     "metadata": {},
     "output_type": "execute_result"
    }
   ],
   "source": [
    "data = data.drop_duplicates(subset=['Descripcion'], keep='first')\n",
    "#confirmamos que se hayan eliminado los duplicados\n",
    "data.shape"
   ]
  },
  {
   "cell_type": "code",
   "execution_count": 50,
   "metadata": {},
   "outputs": [],
   "source": [
    "import re\n",
    "import unicodedata\n",
    "\n",
    "#Se hace una isnpeccion visual para identificar caracteres especiales que reemplazan otra letra y se incluyen en el diccionario \n",
    "# para corregirlo y no perder esas palabras cuando eliminemos los caracteres especiales\n",
    "\n",
    "mapa_reemplazo= {\n",
    "    \"√°\": \"a\",\n",
    "    \"√©\": \"e\",\n",
    "    \"√≠\": \"i\",\n",
    "    \"√≥\": \"o\",\n",
    "    \"√º\":\"ú\",\n",
    "    \"√±\": \"ñ\",\n",
    "}\n",
    "\n",
    "def correct_common_replacements(text):\n",
    "\n",
    "    for wrong, right in mapa_reemplazo.items():\n",
    "        text = text.replace(wrong, right)\n",
    "    return text\n",
    "\n",
    "def remove_non_ascii(words):\n",
    "    \n",
    "    new_words = []\n",
    "    for word in words:\n",
    "        if word is not None:\n",
    "          new_word = unicodedata.normalize('NFKD', word).encode('ascii', 'ignore').decode('utf-8', 'ignore')\n",
    "          new_words.append(new_word)\n",
    "    return new_words\n",
    "\n",
    "def to_lowercase(words):\n",
    "\n",
    "    new_words = []\n",
    "    for word in words:\n",
    "        new_word = word.lower()\n",
    "        new_words.append(new_word)\n",
    "    return new_words\n",
    "\n",
    "def remove_punctuation(words):\n",
    "  \n",
    "    new_words = []\n",
    "    for word in words:\n",
    "        new_word = re.sub(r'[^\\w\\s]', '', word)\n",
    "        if new_word != '':\n",
    "            new_words.append(new_word)\n",
    "    return new_words\n",
    "\n",
    "def remove_integers(words):\n",
    "  \n",
    "    new_words = []\n",
    "    for word in words:\n",
    "        new_word = re.sub(r\"\\b\\d+\\b\", \"\", word)\n",
    "        if new_word != '':\n",
    "            new_words.append(new_word)\n",
    "    return new_words\n",
    "\n",
    "def remove_stopwords(words, stopwords=stopwords.words('spanish')):\n",
    "    new_words = []\n",
    "    for word in words:\n",
    "        if word not in stopwords:\n",
    "            new_words.append(word)\n",
    "    return new_words\n",
    "\n",
    "def preprocessing(words):\n",
    "    text = ' '.join(words)\n",
    "    text = correct_common_replacements(text)\n",
    "    words = text.split()\n",
    "    words = to_lowercase(words)\n",
    "    words = remove_punctuation(words)\n",
    "    words = remove_non_ascii(words)\n",
    "    words = remove_integers(words)\n",
    "    words = remove_stopwords(words)\n",
    "    return words\n"
   ]
  },
  {
   "cell_type": "markdown",
   "metadata": {},
   "source": [
    "Se realiza una correción de caracteres especiales ya que algunas codificaciones defectuosas pueden hacer que caracteres acentuados se conviertan en símbolos extraños (√°, √©, etc.). Luego, Ese hace eliminación de caracteres no ASCII convirtiendo caracteres con tildes en su versión sin tilde utilizando, esto es útil porque en algunos modelos, la misma palabra con y sin tilde podría ser tratada como diferente. Después,  se hace eliminación de puntación, números, palabras vacias y conversión a minusculas. Se realizan estas funciones con el objetivo de mejorar la calidad del texto antes del análisis, reducir el ruido eliminando información irrelevante y evitar problemas de codificación con caracteres especiales.\n"
   ]
  },
  {
   "cell_type": "markdown",
   "metadata": {},
   "source": [
    "### 3.2 Tokenización"
   ]
  },
  {
   "cell_type": "markdown",
   "metadata": {},
   "source": [
    "Se realiza tokenización para estandatizar el analisis, eliminar el ruido y poder representar el texto de mejor manera. Es importante denotar que se hicieron uso de las funciones previemente observadas para la reduccion de ruido. Es imprecindible este paso para mejorar la calidad de los datos antes de analizarlos o usarlos en los modelos."
   ]
  },
  {
   "cell_type": "code",
   "execution_count": 51,
   "metadata": {},
   "outputs": [],
   "source": [
    "import contractions\n",
    "\n",
    "data['Descripcion'] = data['Descripcion'].apply(contractions.fix)"
   ]
  },
  {
   "cell_type": "markdown",
   "metadata": {},
   "source": [
    "Se realiza una expansión de contracciones con el fin de evitar la perdida de información al convertir palabras contraídas en su versión completa, mejorar la calidad de los datos para modelos y reducir la ambiguedad en el analisis."
   ]
  },
  {
   "cell_type": "code",
   "execution_count": 52,
   "metadata": {},
   "outputs": [
    {
     "data": {
      "text/html": [
       "<div>\n",
       "<style scoped>\n",
       "    .dataframe tbody tr th:only-of-type {\n",
       "        vertical-align: middle;\n",
       "    }\n",
       "\n",
       "    .dataframe tbody tr th {\n",
       "        vertical-align: top;\n",
       "    }\n",
       "\n",
       "    .dataframe thead th {\n",
       "        text-align: right;\n",
       "    }\n",
       "</style>\n",
       "<table border=\"1\" class=\"dataframe\">\n",
       "  <thead>\n",
       "    <tr style=\"text-align: right;\">\n",
       "      <th></th>\n",
       "      <th>ID</th>\n",
       "      <th>Label</th>\n",
       "      <th>Titulo</th>\n",
       "      <th>Descripcion</th>\n",
       "      <th>Fecha</th>\n",
       "      <th>words</th>\n",
       "    </tr>\n",
       "  </thead>\n",
       "  <tbody>\n",
       "    <tr>\n",
       "      <th>0</th>\n",
       "      <td>ID</td>\n",
       "      <td>1</td>\n",
       "      <td>'The Guardian' va con Sánchez: 'Europa necesit...</td>\n",
       "      <td>El diario británico publicó este pasado jueves...</td>\n",
       "      <td>02/06/2023</td>\n",
       "      <td>[diario, britanico, publico, pasado, jueves, e...</td>\n",
       "    </tr>\n",
       "    <tr>\n",
       "      <th>1</th>\n",
       "      <td>ID</td>\n",
       "      <td>0</td>\n",
       "      <td>REVELAN QUE EL GOBIERNO NEGOCIO LA LIBERACIÓN ...</td>\n",
       "      <td>REVELAN QUE EL GOBIERNO NEGOCIO LA LIBERACIÓN ...</td>\n",
       "      <td>01/10/2023</td>\n",
       "      <td>[revelan, gobierno, negocio, liberacion, mirel...</td>\n",
       "    </tr>\n",
       "    <tr>\n",
       "      <th>2</th>\n",
       "      <td>ID</td>\n",
       "      <td>1</td>\n",
       "      <td>El 'Ahora o nunca' de Joan Fuster sobre el est...</td>\n",
       "      <td>El valencianismo convoca en Castelló su fiesta...</td>\n",
       "      <td>25/04/2022</td>\n",
       "      <td>[valencianismo, convoca, castello, fiesta, gra...</td>\n",
       "    </tr>\n",
       "    <tr>\n",
       "      <th>3</th>\n",
       "      <td>ID</td>\n",
       "      <td>1</td>\n",
       "      <td>Iglesias alienta a Yolanda Díaz, ERC y EH Bild...</td>\n",
       "      <td>En política, igual que hay que negociar con lo...</td>\n",
       "      <td>03/01/2022</td>\n",
       "      <td>[politica, igual, negociar, empresarios, negoc...</td>\n",
       "    </tr>\n",
       "    <tr>\n",
       "      <th>4</th>\n",
       "      <td>ID</td>\n",
       "      <td>0</td>\n",
       "      <td>Puigdemont: 'No sería ninguna tragedia una rep...</td>\n",
       "      <td>En una entrevista en El Punt Avui, el líder de...</td>\n",
       "      <td>09/03/2018</td>\n",
       "      <td>[entrevista, punt, avui, lider, jxcat, desdram...</td>\n",
       "    </tr>\n",
       "  </tbody>\n",
       "</table>\n",
       "</div>"
      ],
      "text/plain": [
       "   ID  Label                                             Titulo  \\\n",
       "0  ID      1  'The Guardian' va con Sánchez: 'Europa necesit...   \n",
       "1  ID      0  REVELAN QUE EL GOBIERNO NEGOCIO LA LIBERACIÓN ...   \n",
       "2  ID      1  El 'Ahora o nunca' de Joan Fuster sobre el est...   \n",
       "3  ID      1  Iglesias alienta a Yolanda Díaz, ERC y EH Bild...   \n",
       "4  ID      0  Puigdemont: 'No sería ninguna tragedia una rep...   \n",
       "\n",
       "                                         Descripcion       Fecha  \\\n",
       "0  El diario británico publicó este pasado jueves...  02/06/2023   \n",
       "1  REVELAN QUE EL GOBIERNO NEGOCIO LA LIBERACIÓN ...  01/10/2023   \n",
       "2  El valencianismo convoca en Castelló su fiesta...  25/04/2022   \n",
       "3  En política, igual que hay que negociar con lo...  03/01/2022   \n",
       "4  En una entrevista en El Punt Avui, el líder de...  09/03/2018   \n",
       "\n",
       "                                               words  \n",
       "0  [diario, britanico, publico, pasado, jueves, e...  \n",
       "1  [revelan, gobierno, negocio, liberacion, mirel...  \n",
       "2  [valencianismo, convoca, castello, fiesta, gra...  \n",
       "3  [politica, igual, negociar, empresarios, negoc...  \n",
       "4  [entrevista, punt, avui, lider, jxcat, desdram...  "
      ]
     },
     "execution_count": 52,
     "metadata": {},
     "output_type": "execute_result"
    }
   ],
   "source": [
    "data['words'] = data['Descripcion'].apply(word_tokenize).apply(preprocessing)\n",
    "data.head()"
   ]
  },
  {
   "cell_type": "markdown",
   "metadata": {},
   "source": [
    "Se tokeniza el campo descripcion para convertir el texto en una lista de palabras y se aplica la funcion preprocessing() para limpiar y normalizar cada token. Como podemos ver en la columna \"words\", contiene una versión limpia y lista del texto para análisis facilitando tareas como detección de noticias falsas"
   ]
  },
  {
   "cell_type": "markdown",
   "metadata": {},
   "source": [
    "### 3.3 Normalización"
   ]
  },
  {
   "cell_type": "markdown",
   "metadata": {},
   "source": [
    "La normalización es un paso clave en este caso para el procesamiento de lenguaje natural, ya que reduce la variabilidad del texto sin perder su significado, lo que ayuda a mejorar la calidad del análisis. Cuando se trabaja con datos de texto, se pueden presentarse múltiples variaciones de una misma palabra que deben tratarse como equivalentes.\n"
   ]
  },
  {
   "cell_type": "code",
   "execution_count": 53,
   "metadata": {},
   "outputs": [
    {
     "data": {
      "text/html": [
       "<div>\n",
       "<style scoped>\n",
       "    .dataframe tbody tr th:only-of-type {\n",
       "        vertical-align: middle;\n",
       "    }\n",
       "\n",
       "    .dataframe tbody tr th {\n",
       "        vertical-align: top;\n",
       "    }\n",
       "\n",
       "    .dataframe thead th {\n",
       "        text-align: right;\n",
       "    }\n",
       "</style>\n",
       "<table border=\"1\" class=\"dataframe\">\n",
       "  <thead>\n",
       "    <tr style=\"text-align: right;\">\n",
       "      <th></th>\n",
       "      <th>ID</th>\n",
       "      <th>Label</th>\n",
       "      <th>Titulo</th>\n",
       "      <th>Descripcion</th>\n",
       "      <th>Fecha</th>\n",
       "      <th>words</th>\n",
       "    </tr>\n",
       "  </thead>\n",
       "  <tbody>\n",
       "    <tr>\n",
       "      <th>0</th>\n",
       "      <td>ID</td>\n",
       "      <td>1</td>\n",
       "      <td>'The Guardian' va con Sánchez: 'Europa necesit...</td>\n",
       "      <td>El diario británico publicó este pasado jueves...</td>\n",
       "      <td>02/06/2023</td>\n",
       "      <td>[diari, britan, public, pas, juev, editorial, ...</td>\n",
       "    </tr>\n",
       "    <tr>\n",
       "      <th>1</th>\n",
       "      <td>ID</td>\n",
       "      <td>0</td>\n",
       "      <td>REVELAN QUE EL GOBIERNO NEGOCIO LA LIBERACIÓN ...</td>\n",
       "      <td>REVELAN QUE EL GOBIERNO NEGOCIO LA LIBERACIÓN ...</td>\n",
       "      <td>01/10/2023</td>\n",
       "      <td>[revel, gobiern, negoci, liber, mirel, cambi, ...</td>\n",
       "    </tr>\n",
       "    <tr>\n",
       "      <th>2</th>\n",
       "      <td>ID</td>\n",
       "      <td>1</td>\n",
       "      <td>El 'Ahora o nunca' de Joan Fuster sobre el est...</td>\n",
       "      <td>El valencianismo convoca en Castelló su fiesta...</td>\n",
       "      <td>25/04/2022</td>\n",
       "      <td>[valencian, convoc, castell, fiest, grand, con...</td>\n",
       "    </tr>\n",
       "    <tr>\n",
       "      <th>3</th>\n",
       "      <td>ID</td>\n",
       "      <td>1</td>\n",
       "      <td>Iglesias alienta a Yolanda Díaz, ERC y EH Bild...</td>\n",
       "      <td>En política, igual que hay que negociar con lo...</td>\n",
       "      <td>03/01/2022</td>\n",
       "      <td>[polit, igual, negoci, empresari, negoci, grup...</td>\n",
       "    </tr>\n",
       "    <tr>\n",
       "      <th>4</th>\n",
       "      <td>ID</td>\n",
       "      <td>0</td>\n",
       "      <td>Puigdemont: 'No sería ninguna tragedia una rep...</td>\n",
       "      <td>En una entrevista en El Punt Avui, el líder de...</td>\n",
       "      <td>09/03/2018</td>\n",
       "      <td>[entrev, punt, avui, lid, jxcat, desdramatiz, ...</td>\n",
       "    </tr>\n",
       "  </tbody>\n",
       "</table>\n",
       "</div>"
      ],
      "text/plain": [
       "   ID  Label                                             Titulo  \\\n",
       "0  ID      1  'The Guardian' va con Sánchez: 'Europa necesit...   \n",
       "1  ID      0  REVELAN QUE EL GOBIERNO NEGOCIO LA LIBERACIÓN ...   \n",
       "2  ID      1  El 'Ahora o nunca' de Joan Fuster sobre el est...   \n",
       "3  ID      1  Iglesias alienta a Yolanda Díaz, ERC y EH Bild...   \n",
       "4  ID      0  Puigdemont: 'No sería ninguna tragedia una rep...   \n",
       "\n",
       "                                         Descripcion       Fecha  \\\n",
       "0  El diario británico publicó este pasado jueves...  02/06/2023   \n",
       "1  REVELAN QUE EL GOBIERNO NEGOCIO LA LIBERACIÓN ...  01/10/2023   \n",
       "2  El valencianismo convoca en Castelló su fiesta...  25/04/2022   \n",
       "3  En política, igual que hay que negociar con lo...  03/01/2022   \n",
       "4  En una entrevista en El Punt Avui, el líder de...  09/03/2018   \n",
       "\n",
       "                                               words  \n",
       "0  [diari, britan, public, pas, juev, editorial, ...  \n",
       "1  [revel, gobiern, negoci, liber, mirel, cambi, ...  \n",
       "2  [valencian, convoc, castell, fiest, grand, con...  \n",
       "3  [polit, igual, negoci, empresari, negoci, grup...  \n",
       "4  [entrev, punt, avui, lid, jxcat, desdramatiz, ...  "
      ]
     },
     "execution_count": 53,
     "metadata": {},
     "output_type": "execute_result"
    }
   ],
   "source": [
    "def stem_words(words):\n",
    "    \"\"\"Stem words in list of tokenized words\"\"\"\n",
    "    stemmer = SnowballStemmer('spanish')\n",
    "    stems = []\n",
    "    for word in words:\n",
    "        stem = stemmer.stem(word)\n",
    "        stems.append(stem)\n",
    "    return stems\n",
    "\n",
    "def lemmatize_verbs(words):\n",
    "    \"\"\"Lemmatize verbs in list of tokenized words\"\"\"\n",
    "    lemmatizer = WordNetLemmatizer()\n",
    "    lemmas = []\n",
    "    for word in words:\n",
    "        lemma = lemmatizer.lemmatize(word, pos='v')\n",
    "        lemmas.append(lemma)\n",
    "    return lemmas\n",
    "\n",
    "def stem_and_lemmatize(words):\n",
    "    stems = stem_words(words)\n",
    "    lemmas = lemmatize_verbs(words)\n",
    "    return stems + lemmas\n",
    "\n",
    "data['words'] = data['words'].apply(stem_and_lemmatize) #Aplica lematización y eliminación de prefijos y sufijos.\n",
    "data.head()"
   ]
  },
  {
   "cell_type": "markdown",
   "metadata": {},
   "source": [
    "Se aplica stemming y lemmatization a las palabras de la columna 'words' del dataset con el objetivo de reducir las palabras a su forma base.\n",
    "\n",
    "La función stem_words(words) usa SnowballStemmer para recortar palabras eliminando sufijos y prefijos. Es importante entender que el stemming puede generar palabras sin sentido, sin embargo, reduce la dimensionalidad del texto.\n",
    "\n",
    "La función lemmatize_verbs(words) usa WordNetLemmatizer para convertir verbos a su forma base.\n",
    "\n"
   ]
  },
  {
   "cell_type": "markdown",
   "metadata": {},
   "source": [
    "### 3.4 Selección de campos"
   ]
  },
  {
   "cell_type": "code",
   "execution_count": 54,
   "metadata": {},
   "outputs": [
    {
     "data": {
      "text/html": [
       "<div>\n",
       "<style scoped>\n",
       "    .dataframe tbody tr th:only-of-type {\n",
       "        vertical-align: middle;\n",
       "    }\n",
       "\n",
       "    .dataframe tbody tr th {\n",
       "        vertical-align: top;\n",
       "    }\n",
       "\n",
       "    .dataframe thead th {\n",
       "        text-align: right;\n",
       "    }\n",
       "</style>\n",
       "<table border=\"1\" class=\"dataframe\">\n",
       "  <thead>\n",
       "    <tr style=\"text-align: right;\">\n",
       "      <th></th>\n",
       "      <th>ID</th>\n",
       "      <th>Label</th>\n",
       "      <th>Titulo</th>\n",
       "      <th>Descripcion</th>\n",
       "      <th>Fecha</th>\n",
       "      <th>words</th>\n",
       "    </tr>\n",
       "  </thead>\n",
       "  <tbody>\n",
       "    <tr>\n",
       "      <th>0</th>\n",
       "      <td>ID</td>\n",
       "      <td>1</td>\n",
       "      <td>'The Guardian' va con Sánchez: 'Europa necesit...</td>\n",
       "      <td>El diario británico publicó este pasado jueves...</td>\n",
       "      <td>02/06/2023</td>\n",
       "      <td>diari britan public pas juev editorial proxim ...</td>\n",
       "    </tr>\n",
       "    <tr>\n",
       "      <th>1</th>\n",
       "      <td>ID</td>\n",
       "      <td>0</td>\n",
       "      <td>REVELAN QUE EL GOBIERNO NEGOCIO LA LIBERACIÓN ...</td>\n",
       "      <td>REVELAN QUE EL GOBIERNO NEGOCIO LA LIBERACIÓN ...</td>\n",
       "      <td>01/10/2023</td>\n",
       "      <td>revel gobiern negoci liber mirel cambi otorg p...</td>\n",
       "    </tr>\n",
       "    <tr>\n",
       "      <th>2</th>\n",
       "      <td>ID</td>\n",
       "      <td>1</td>\n",
       "      <td>El 'Ahora o nunca' de Joan Fuster sobre el est...</td>\n",
       "      <td>El valencianismo convoca en Castelló su fiesta...</td>\n",
       "      <td>25/04/2022</td>\n",
       "      <td>valencian convoc castell fiest grand conmemor ...</td>\n",
       "    </tr>\n",
       "    <tr>\n",
       "      <th>3</th>\n",
       "      <td>ID</td>\n",
       "      <td>1</td>\n",
       "      <td>Iglesias alienta a Yolanda Díaz, ERC y EH Bild...</td>\n",
       "      <td>En política, igual que hay que negociar con lo...</td>\n",
       "      <td>03/01/2022</td>\n",
       "      <td>polit igual negoci empresari negoci grup parla...</td>\n",
       "    </tr>\n",
       "    <tr>\n",
       "      <th>4</th>\n",
       "      <td>ID</td>\n",
       "      <td>0</td>\n",
       "      <td>Puigdemont: 'No sería ninguna tragedia una rep...</td>\n",
       "      <td>En una entrevista en El Punt Avui, el líder de...</td>\n",
       "      <td>09/03/2018</td>\n",
       "      <td>entrev punt avui lid jxcat desdramatiz posibl ...</td>\n",
       "    </tr>\n",
       "    <tr>\n",
       "      <th>...</th>\n",
       "      <td>...</td>\n",
       "      <td>...</td>\n",
       "      <td>...</td>\n",
       "      <td>...</td>\n",
       "      <td>...</td>\n",
       "      <td>...</td>\n",
       "    </tr>\n",
       "    <tr>\n",
       "      <th>57058</th>\n",
       "      <td>ID</td>\n",
       "      <td>1</td>\n",
       "      <td>El Defensor del Pueblo reclama a la Comunidad ...</td>\n",
       "      <td>El gobierno regional han indicado que la atenc...</td>\n",
       "      <td>08/06/2021</td>\n",
       "      <td>gobiern regional indic atencion dia inclu aten...</td>\n",
       "    </tr>\n",
       "    <tr>\n",
       "      <th>57059</th>\n",
       "      <td>ID</td>\n",
       "      <td>0</td>\n",
       "      <td>El EQUO plantea ceder la presidencia de la Com...</td>\n",
       "      <td>Si la higiene democrática nos lleva a esa exig...</td>\n",
       "      <td>08/09/2020</td>\n",
       "      <td>si higien democrat llev exigent ten pas person...</td>\n",
       "    </tr>\n",
       "    <tr>\n",
       "      <th>57060</th>\n",
       "      <td>ID</td>\n",
       "      <td>1</td>\n",
       "      <td>Alberto Garzón: 'Que los Borbones son unos lad...</td>\n",
       "      <td>El coordinador federal de IU asegura que la mo...</td>\n",
       "      <td>12/07/2018</td>\n",
       "      <td>coordin federal iu asegur monarqui putrefact c...</td>\n",
       "    </tr>\n",
       "    <tr>\n",
       "      <th>57061</th>\n",
       "      <td>ID</td>\n",
       "      <td>1</td>\n",
       "      <td>Vox exige entrar en el Gobierno de Castilla y ...</td>\n",
       "      <td>Santiago Abascal: Vox tiene el derecho y el de...</td>\n",
       "      <td>13/02/2022</td>\n",
       "      <td>santiag abascal vox derech deb form gobiern ca...</td>\n",
       "    </tr>\n",
       "    <tr>\n",
       "      <th>57062</th>\n",
       "      <td>ID</td>\n",
       "      <td>1</td>\n",
       "      <td>Unas 300 personas protestan contra la visita d...</td>\n",
       "      <td>Los Mossos dEsquadra han blindado los alrededo...</td>\n",
       "      <td>09/10/2020</td>\n",
       "      <td>moss desquadr blind alrededor estacion franci ...</td>\n",
       "    </tr>\n",
       "  </tbody>\n",
       "</table>\n",
       "<p>49638 rows × 6 columns</p>\n",
       "</div>"
      ],
      "text/plain": [
       "       ID  Label                                             Titulo  \\\n",
       "0      ID      1  'The Guardian' va con Sánchez: 'Europa necesit...   \n",
       "1      ID      0  REVELAN QUE EL GOBIERNO NEGOCIO LA LIBERACIÓN ...   \n",
       "2      ID      1  El 'Ahora o nunca' de Joan Fuster sobre el est...   \n",
       "3      ID      1  Iglesias alienta a Yolanda Díaz, ERC y EH Bild...   \n",
       "4      ID      0  Puigdemont: 'No sería ninguna tragedia una rep...   \n",
       "...    ..    ...                                                ...   \n",
       "57058  ID      1  El Defensor del Pueblo reclama a la Comunidad ...   \n",
       "57059  ID      0  El EQUO plantea ceder la presidencia de la Com...   \n",
       "57060  ID      1  Alberto Garzón: 'Que los Borbones son unos lad...   \n",
       "57061  ID      1  Vox exige entrar en el Gobierno de Castilla y ...   \n",
       "57062  ID      1  Unas 300 personas protestan contra la visita d...   \n",
       "\n",
       "                                             Descripcion       Fecha  \\\n",
       "0      El diario británico publicó este pasado jueves...  02/06/2023   \n",
       "1      REVELAN QUE EL GOBIERNO NEGOCIO LA LIBERACIÓN ...  01/10/2023   \n",
       "2      El valencianismo convoca en Castelló su fiesta...  25/04/2022   \n",
       "3      En política, igual que hay que negociar con lo...  03/01/2022   \n",
       "4      En una entrevista en El Punt Avui, el líder de...  09/03/2018   \n",
       "...                                                  ...         ...   \n",
       "57058  El gobierno regional han indicado que la atenc...  08/06/2021   \n",
       "57059  Si la higiene democrática nos lleva a esa exig...  08/09/2020   \n",
       "57060  El coordinador federal de IU asegura que la mo...  12/07/2018   \n",
       "57061  Santiago Abascal: Vox tiene el derecho y el de...  13/02/2022   \n",
       "57062  Los Mossos dEsquadra han blindado los alrededo...  09/10/2020   \n",
       "\n",
       "                                                   words  \n",
       "0      diari britan public pas juev editorial proxim ...  \n",
       "1      revel gobiern negoci liber mirel cambi otorg p...  \n",
       "2      valencian convoc castell fiest grand conmemor ...  \n",
       "3      polit igual negoci empresari negoci grup parla...  \n",
       "4      entrev punt avui lid jxcat desdramatiz posibl ...  \n",
       "...                                                  ...  \n",
       "57058  gobiern regional indic atencion dia inclu aten...  \n",
       "57059  si higien democrat llev exigent ten pas person...  \n",
       "57060  coordin federal iu asegur monarqui putrefact c...  \n",
       "57061  santiag abascal vox derech deb form gobiern ca...  \n",
       "57062  moss desquadr blind alrededor estacion franci ...  \n",
       "\n",
       "[49638 rows x 6 columns]"
      ]
     },
     "execution_count": 54,
     "metadata": {},
     "output_type": "execute_result"
    }
   ],
   "source": [
    "data['words'] = data['words'].apply(lambda x: ' '.join(map(str, x)))\n",
    "data"
   ]
  },
  {
   "cell_type": "markdown",
   "metadata": {},
   "source": [
    "El conjunto de datos es separado y etiquetado en dos partes: entrenamiento y prueba. Esto se hace con el fin de entrenar al modelo"
   ]
  },
  {
   "cell_type": "code",
   "execution_count": 55,
   "metadata": {},
   "outputs": [],
   "source": [
    "X_train, X_test, y_train, y_test = train_test_split(data[\"words\"], data[\"Label\"], test_size=0.2, stratify=data[\"Label\"], random_state=1)"
   ]
  },
  {
   "cell_type": "markdown",
   "metadata": {},
   "source": [
    "# 4. Modelos"
   ]
  },
  {
   "cell_type": "markdown",
   "metadata": {},
   "source": [
    "### 4.1 Random Forest (Paulina Arrázola)"
   ]
  },
  {
   "cell_type": "markdown",
   "metadata": {},
   "source": [
    "A continuación se va a implementar un modelo de clasificación de Random Forest con vectorización TF-IDF. Se considera que este es un buen enfoque para la detección de noticias falsas porque aprovecha las fortalezas de ambas técnicas. Por un lado, TF-IDF cuantifica la importancia de las palabras dentro de un texto, lo cual puede ayudar a que se capture de mejor manera el peso real de las palabras presentes en las noticias que se están analizando. Por otro lado, Random Forest es un método que soporta bien los datos de alta dimensión (como los producidos por TF-IDF) y es menos propenso al sobreajuste, lo que lo hace adecuado para la tarea de identificar información errónea. Se espera que esta combinación genere un modelo que aprenda patrones complejos dentro del análisis de texto, lo que en última instancia mejora la precisión y la confiabilidad de la detección de noticias falsas."
   ]
  },
  {
   "cell_type": "code",
   "execution_count": 56,
   "metadata": {},
   "outputs": [
    {
     "data": {
      "text/plain": [
       "54604"
      ]
     },
     "execution_count": 56,
     "metadata": {},
     "output_type": "execute_result"
    }
   ],
   "source": [
    "tf_idf = TfidfVectorizer()\n",
    "X_tfidf = tf_idf.fit_transform(X_train)\n",
    "len(tf_idf.vocabulary_)"
   ]
  },
  {
   "cell_type": "code",
   "execution_count": 57,
   "metadata": {},
   "outputs": [],
   "source": [
    "from sklearn.ensemble import RandomForestClassifier\n",
    "\n",
    "\n",
    "tfidf_model = RandomForestClassifier(random_state = 3)"
   ]
  },
  {
   "cell_type": "code",
   "execution_count": 58,
   "metadata": {},
   "outputs": [
    {
     "data": {
      "text/html": [
       "<style>#sk-container-id-1 {\n",
       "  /* Definition of color scheme common for light and dark mode */\n",
       "  --sklearn-color-text: #000;\n",
       "  --sklearn-color-text-muted: #666;\n",
       "  --sklearn-color-line: gray;\n",
       "  /* Definition of color scheme for unfitted estimators */\n",
       "  --sklearn-color-unfitted-level-0: #fff5e6;\n",
       "  --sklearn-color-unfitted-level-1: #f6e4d2;\n",
       "  --sklearn-color-unfitted-level-2: #ffe0b3;\n",
       "  --sklearn-color-unfitted-level-3: chocolate;\n",
       "  /* Definition of color scheme for fitted estimators */\n",
       "  --sklearn-color-fitted-level-0: #f0f8ff;\n",
       "  --sklearn-color-fitted-level-1: #d4ebff;\n",
       "  --sklearn-color-fitted-level-2: #b3dbfd;\n",
       "  --sklearn-color-fitted-level-3: cornflowerblue;\n",
       "\n",
       "  /* Specific color for light theme */\n",
       "  --sklearn-color-text-on-default-background: var(--sg-text-color, var(--theme-code-foreground, var(--jp-content-font-color1, black)));\n",
       "  --sklearn-color-background: var(--sg-background-color, var(--theme-background, var(--jp-layout-color0, white)));\n",
       "  --sklearn-color-border-box: var(--sg-text-color, var(--theme-code-foreground, var(--jp-content-font-color1, black)));\n",
       "  --sklearn-color-icon: #696969;\n",
       "\n",
       "  @media (prefers-color-scheme: dark) {\n",
       "    /* Redefinition of color scheme for dark theme */\n",
       "    --sklearn-color-text-on-default-background: var(--sg-text-color, var(--theme-code-foreground, var(--jp-content-font-color1, white)));\n",
       "    --sklearn-color-background: var(--sg-background-color, var(--theme-background, var(--jp-layout-color0, #111)));\n",
       "    --sklearn-color-border-box: var(--sg-text-color, var(--theme-code-foreground, var(--jp-content-font-color1, white)));\n",
       "    --sklearn-color-icon: #878787;\n",
       "  }\n",
       "}\n",
       "\n",
       "#sk-container-id-1 {\n",
       "  color: var(--sklearn-color-text);\n",
       "}\n",
       "\n",
       "#sk-container-id-1 pre {\n",
       "  padding: 0;\n",
       "}\n",
       "\n",
       "#sk-container-id-1 input.sk-hidden--visually {\n",
       "  border: 0;\n",
       "  clip: rect(1px 1px 1px 1px);\n",
       "  clip: rect(1px, 1px, 1px, 1px);\n",
       "  height: 1px;\n",
       "  margin: -1px;\n",
       "  overflow: hidden;\n",
       "  padding: 0;\n",
       "  position: absolute;\n",
       "  width: 1px;\n",
       "}\n",
       "\n",
       "#sk-container-id-1 div.sk-dashed-wrapped {\n",
       "  border: 1px dashed var(--sklearn-color-line);\n",
       "  margin: 0 0.4em 0.5em 0.4em;\n",
       "  box-sizing: border-box;\n",
       "  padding-bottom: 0.4em;\n",
       "  background-color: var(--sklearn-color-background);\n",
       "}\n",
       "\n",
       "#sk-container-id-1 div.sk-container {\n",
       "  /* jupyter's `normalize.less` sets `[hidden] { display: none; }`\n",
       "     but bootstrap.min.css set `[hidden] { display: none !important; }`\n",
       "     so we also need the `!important` here to be able to override the\n",
       "     default hidden behavior on the sphinx rendered scikit-learn.org.\n",
       "     See: https://github.com/scikit-learn/scikit-learn/issues/21755 */\n",
       "  display: inline-block !important;\n",
       "  position: relative;\n",
       "}\n",
       "\n",
       "#sk-container-id-1 div.sk-text-repr-fallback {\n",
       "  display: none;\n",
       "}\n",
       "\n",
       "div.sk-parallel-item,\n",
       "div.sk-serial,\n",
       "div.sk-item {\n",
       "  /* draw centered vertical line to link estimators */\n",
       "  background-image: linear-gradient(var(--sklearn-color-text-on-default-background), var(--sklearn-color-text-on-default-background));\n",
       "  background-size: 2px 100%;\n",
       "  background-repeat: no-repeat;\n",
       "  background-position: center center;\n",
       "}\n",
       "\n",
       "/* Parallel-specific style estimator block */\n",
       "\n",
       "#sk-container-id-1 div.sk-parallel-item::after {\n",
       "  content: \"\";\n",
       "  width: 100%;\n",
       "  border-bottom: 2px solid var(--sklearn-color-text-on-default-background);\n",
       "  flex-grow: 1;\n",
       "}\n",
       "\n",
       "#sk-container-id-1 div.sk-parallel {\n",
       "  display: flex;\n",
       "  align-items: stretch;\n",
       "  justify-content: center;\n",
       "  background-color: var(--sklearn-color-background);\n",
       "  position: relative;\n",
       "}\n",
       "\n",
       "#sk-container-id-1 div.sk-parallel-item {\n",
       "  display: flex;\n",
       "  flex-direction: column;\n",
       "}\n",
       "\n",
       "#sk-container-id-1 div.sk-parallel-item:first-child::after {\n",
       "  align-self: flex-end;\n",
       "  width: 50%;\n",
       "}\n",
       "\n",
       "#sk-container-id-1 div.sk-parallel-item:last-child::after {\n",
       "  align-self: flex-start;\n",
       "  width: 50%;\n",
       "}\n",
       "\n",
       "#sk-container-id-1 div.sk-parallel-item:only-child::after {\n",
       "  width: 0;\n",
       "}\n",
       "\n",
       "/* Serial-specific style estimator block */\n",
       "\n",
       "#sk-container-id-1 div.sk-serial {\n",
       "  display: flex;\n",
       "  flex-direction: column;\n",
       "  align-items: center;\n",
       "  background-color: var(--sklearn-color-background);\n",
       "  padding-right: 1em;\n",
       "  padding-left: 1em;\n",
       "}\n",
       "\n",
       "\n",
       "/* Toggleable style: style used for estimator/Pipeline/ColumnTransformer box that is\n",
       "clickable and can be expanded/collapsed.\n",
       "- Pipeline and ColumnTransformer use this feature and define the default style\n",
       "- Estimators will overwrite some part of the style using the `sk-estimator` class\n",
       "*/\n",
       "\n",
       "/* Pipeline and ColumnTransformer style (default) */\n",
       "\n",
       "#sk-container-id-1 div.sk-toggleable {\n",
       "  /* Default theme specific background. It is overwritten whether we have a\n",
       "  specific estimator or a Pipeline/ColumnTransformer */\n",
       "  background-color: var(--sklearn-color-background);\n",
       "}\n",
       "\n",
       "/* Toggleable label */\n",
       "#sk-container-id-1 label.sk-toggleable__label {\n",
       "  cursor: pointer;\n",
       "  display: flex;\n",
       "  width: 100%;\n",
       "  margin-bottom: 0;\n",
       "  padding: 0.5em;\n",
       "  box-sizing: border-box;\n",
       "  text-align: center;\n",
       "  align-items: start;\n",
       "  justify-content: space-between;\n",
       "  gap: 0.5em;\n",
       "}\n",
       "\n",
       "#sk-container-id-1 label.sk-toggleable__label .caption {\n",
       "  font-size: 0.6rem;\n",
       "  font-weight: lighter;\n",
       "  color: var(--sklearn-color-text-muted);\n",
       "}\n",
       "\n",
       "#sk-container-id-1 label.sk-toggleable__label-arrow:before {\n",
       "  /* Arrow on the left of the label */\n",
       "  content: \"▸\";\n",
       "  float: left;\n",
       "  margin-right: 0.25em;\n",
       "  color: var(--sklearn-color-icon);\n",
       "}\n",
       "\n",
       "#sk-container-id-1 label.sk-toggleable__label-arrow:hover:before {\n",
       "  color: var(--sklearn-color-text);\n",
       "}\n",
       "\n",
       "/* Toggleable content - dropdown */\n",
       "\n",
       "#sk-container-id-1 div.sk-toggleable__content {\n",
       "  max-height: 0;\n",
       "  max-width: 0;\n",
       "  overflow: hidden;\n",
       "  text-align: left;\n",
       "  /* unfitted */\n",
       "  background-color: var(--sklearn-color-unfitted-level-0);\n",
       "}\n",
       "\n",
       "#sk-container-id-1 div.sk-toggleable__content.fitted {\n",
       "  /* fitted */\n",
       "  background-color: var(--sklearn-color-fitted-level-0);\n",
       "}\n",
       "\n",
       "#sk-container-id-1 div.sk-toggleable__content pre {\n",
       "  margin: 0.2em;\n",
       "  border-radius: 0.25em;\n",
       "  color: var(--sklearn-color-text);\n",
       "  /* unfitted */\n",
       "  background-color: var(--sklearn-color-unfitted-level-0);\n",
       "}\n",
       "\n",
       "#sk-container-id-1 div.sk-toggleable__content.fitted pre {\n",
       "  /* unfitted */\n",
       "  background-color: var(--sklearn-color-fitted-level-0);\n",
       "}\n",
       "\n",
       "#sk-container-id-1 input.sk-toggleable__control:checked~div.sk-toggleable__content {\n",
       "  /* Expand drop-down */\n",
       "  max-height: 200px;\n",
       "  max-width: 100%;\n",
       "  overflow: auto;\n",
       "}\n",
       "\n",
       "#sk-container-id-1 input.sk-toggleable__control:checked~label.sk-toggleable__label-arrow:before {\n",
       "  content: \"▾\";\n",
       "}\n",
       "\n",
       "/* Pipeline/ColumnTransformer-specific style */\n",
       "\n",
       "#sk-container-id-1 div.sk-label input.sk-toggleable__control:checked~label.sk-toggleable__label {\n",
       "  color: var(--sklearn-color-text);\n",
       "  background-color: var(--sklearn-color-unfitted-level-2);\n",
       "}\n",
       "\n",
       "#sk-container-id-1 div.sk-label.fitted input.sk-toggleable__control:checked~label.sk-toggleable__label {\n",
       "  background-color: var(--sklearn-color-fitted-level-2);\n",
       "}\n",
       "\n",
       "/* Estimator-specific style */\n",
       "\n",
       "/* Colorize estimator box */\n",
       "#sk-container-id-1 div.sk-estimator input.sk-toggleable__control:checked~label.sk-toggleable__label {\n",
       "  /* unfitted */\n",
       "  background-color: var(--sklearn-color-unfitted-level-2);\n",
       "}\n",
       "\n",
       "#sk-container-id-1 div.sk-estimator.fitted input.sk-toggleable__control:checked~label.sk-toggleable__label {\n",
       "  /* fitted */\n",
       "  background-color: var(--sklearn-color-fitted-level-2);\n",
       "}\n",
       "\n",
       "#sk-container-id-1 div.sk-label label.sk-toggleable__label,\n",
       "#sk-container-id-1 div.sk-label label {\n",
       "  /* The background is the default theme color */\n",
       "  color: var(--sklearn-color-text-on-default-background);\n",
       "}\n",
       "\n",
       "/* On hover, darken the color of the background */\n",
       "#sk-container-id-1 div.sk-label:hover label.sk-toggleable__label {\n",
       "  color: var(--sklearn-color-text);\n",
       "  background-color: var(--sklearn-color-unfitted-level-2);\n",
       "}\n",
       "\n",
       "/* Label box, darken color on hover, fitted */\n",
       "#sk-container-id-1 div.sk-label.fitted:hover label.sk-toggleable__label.fitted {\n",
       "  color: var(--sklearn-color-text);\n",
       "  background-color: var(--sklearn-color-fitted-level-2);\n",
       "}\n",
       "\n",
       "/* Estimator label */\n",
       "\n",
       "#sk-container-id-1 div.sk-label label {\n",
       "  font-family: monospace;\n",
       "  font-weight: bold;\n",
       "  display: inline-block;\n",
       "  line-height: 1.2em;\n",
       "}\n",
       "\n",
       "#sk-container-id-1 div.sk-label-container {\n",
       "  text-align: center;\n",
       "}\n",
       "\n",
       "/* Estimator-specific */\n",
       "#sk-container-id-1 div.sk-estimator {\n",
       "  font-family: monospace;\n",
       "  border: 1px dotted var(--sklearn-color-border-box);\n",
       "  border-radius: 0.25em;\n",
       "  box-sizing: border-box;\n",
       "  margin-bottom: 0.5em;\n",
       "  /* unfitted */\n",
       "  background-color: var(--sklearn-color-unfitted-level-0);\n",
       "}\n",
       "\n",
       "#sk-container-id-1 div.sk-estimator.fitted {\n",
       "  /* fitted */\n",
       "  background-color: var(--sklearn-color-fitted-level-0);\n",
       "}\n",
       "\n",
       "/* on hover */\n",
       "#sk-container-id-1 div.sk-estimator:hover {\n",
       "  /* unfitted */\n",
       "  background-color: var(--sklearn-color-unfitted-level-2);\n",
       "}\n",
       "\n",
       "#sk-container-id-1 div.sk-estimator.fitted:hover {\n",
       "  /* fitted */\n",
       "  background-color: var(--sklearn-color-fitted-level-2);\n",
       "}\n",
       "\n",
       "/* Specification for estimator info (e.g. \"i\" and \"?\") */\n",
       "\n",
       "/* Common style for \"i\" and \"?\" */\n",
       "\n",
       ".sk-estimator-doc-link,\n",
       "a:link.sk-estimator-doc-link,\n",
       "a:visited.sk-estimator-doc-link {\n",
       "  float: right;\n",
       "  font-size: smaller;\n",
       "  line-height: 1em;\n",
       "  font-family: monospace;\n",
       "  background-color: var(--sklearn-color-background);\n",
       "  border-radius: 1em;\n",
       "  height: 1em;\n",
       "  width: 1em;\n",
       "  text-decoration: none !important;\n",
       "  margin-left: 0.5em;\n",
       "  text-align: center;\n",
       "  /* unfitted */\n",
       "  border: var(--sklearn-color-unfitted-level-1) 1pt solid;\n",
       "  color: var(--sklearn-color-unfitted-level-1);\n",
       "}\n",
       "\n",
       ".sk-estimator-doc-link.fitted,\n",
       "a:link.sk-estimator-doc-link.fitted,\n",
       "a:visited.sk-estimator-doc-link.fitted {\n",
       "  /* fitted */\n",
       "  border: var(--sklearn-color-fitted-level-1) 1pt solid;\n",
       "  color: var(--sklearn-color-fitted-level-1);\n",
       "}\n",
       "\n",
       "/* On hover */\n",
       "div.sk-estimator:hover .sk-estimator-doc-link:hover,\n",
       ".sk-estimator-doc-link:hover,\n",
       "div.sk-label-container:hover .sk-estimator-doc-link:hover,\n",
       ".sk-estimator-doc-link:hover {\n",
       "  /* unfitted */\n",
       "  background-color: var(--sklearn-color-unfitted-level-3);\n",
       "  color: var(--sklearn-color-background);\n",
       "  text-decoration: none;\n",
       "}\n",
       "\n",
       "div.sk-estimator.fitted:hover .sk-estimator-doc-link.fitted:hover,\n",
       ".sk-estimator-doc-link.fitted:hover,\n",
       "div.sk-label-container:hover .sk-estimator-doc-link.fitted:hover,\n",
       ".sk-estimator-doc-link.fitted:hover {\n",
       "  /* fitted */\n",
       "  background-color: var(--sklearn-color-fitted-level-3);\n",
       "  color: var(--sklearn-color-background);\n",
       "  text-decoration: none;\n",
       "}\n",
       "\n",
       "/* Span, style for the box shown on hovering the info icon */\n",
       ".sk-estimator-doc-link span {\n",
       "  display: none;\n",
       "  z-index: 9999;\n",
       "  position: relative;\n",
       "  font-weight: normal;\n",
       "  right: .2ex;\n",
       "  padding: .5ex;\n",
       "  margin: .5ex;\n",
       "  width: min-content;\n",
       "  min-width: 20ex;\n",
       "  max-width: 50ex;\n",
       "  color: var(--sklearn-color-text);\n",
       "  box-shadow: 2pt 2pt 4pt #999;\n",
       "  /* unfitted */\n",
       "  background: var(--sklearn-color-unfitted-level-0);\n",
       "  border: .5pt solid var(--sklearn-color-unfitted-level-3);\n",
       "}\n",
       "\n",
       ".sk-estimator-doc-link.fitted span {\n",
       "  /* fitted */\n",
       "  background: var(--sklearn-color-fitted-level-0);\n",
       "  border: var(--sklearn-color-fitted-level-3);\n",
       "}\n",
       "\n",
       ".sk-estimator-doc-link:hover span {\n",
       "  display: block;\n",
       "}\n",
       "\n",
       "/* \"?\"-specific style due to the `<a>` HTML tag */\n",
       "\n",
       "#sk-container-id-1 a.estimator_doc_link {\n",
       "  float: right;\n",
       "  font-size: 1rem;\n",
       "  line-height: 1em;\n",
       "  font-family: monospace;\n",
       "  background-color: var(--sklearn-color-background);\n",
       "  border-radius: 1rem;\n",
       "  height: 1rem;\n",
       "  width: 1rem;\n",
       "  text-decoration: none;\n",
       "  /* unfitted */\n",
       "  color: var(--sklearn-color-unfitted-level-1);\n",
       "  border: var(--sklearn-color-unfitted-level-1) 1pt solid;\n",
       "}\n",
       "\n",
       "#sk-container-id-1 a.estimator_doc_link.fitted {\n",
       "  /* fitted */\n",
       "  border: var(--sklearn-color-fitted-level-1) 1pt solid;\n",
       "  color: var(--sklearn-color-fitted-level-1);\n",
       "}\n",
       "\n",
       "/* On hover */\n",
       "#sk-container-id-1 a.estimator_doc_link:hover {\n",
       "  /* unfitted */\n",
       "  background-color: var(--sklearn-color-unfitted-level-3);\n",
       "  color: var(--sklearn-color-background);\n",
       "  text-decoration: none;\n",
       "}\n",
       "\n",
       "#sk-container-id-1 a.estimator_doc_link.fitted:hover {\n",
       "  /* fitted */\n",
       "  background-color: var(--sklearn-color-fitted-level-3);\n",
       "}\n",
       "</style><div id=\"sk-container-id-1\" class=\"sk-top-container\"><div class=\"sk-text-repr-fallback\"><pre>RandomForestClassifier(random_state=3)</pre><b>In a Jupyter environment, please rerun this cell to show the HTML representation or trust the notebook. <br />On GitHub, the HTML representation is unable to render, please try loading this page with nbviewer.org.</b></div><div class=\"sk-container\" hidden><div class=\"sk-item\"><div class=\"sk-estimator fitted sk-toggleable\"><input class=\"sk-toggleable__control sk-hidden--visually\" id=\"sk-estimator-id-1\" type=\"checkbox\" checked><label for=\"sk-estimator-id-1\" class=\"sk-toggleable__label fitted sk-toggleable__label-arrow\"><div><div>RandomForestClassifier</div></div><div><a class=\"sk-estimator-doc-link fitted\" rel=\"noreferrer\" target=\"_blank\" href=\"https://scikit-learn.org/1.6/modules/generated/sklearn.ensemble.RandomForestClassifier.html\">?<span>Documentation for RandomForestClassifier</span></a><span class=\"sk-estimator-doc-link fitted\">i<span>Fitted</span></span></div></label><div class=\"sk-toggleable__content fitted\"><pre>RandomForestClassifier(random_state=3)</pre></div> </div></div></div></div>"
      ],
      "text/plain": [
       "RandomForestClassifier(random_state=3)"
      ]
     },
     "execution_count": 58,
     "metadata": {},
     "output_type": "execute_result"
    }
   ],
   "source": [
    "tfidf_model.fit(X_tfidf, y_train)"
   ]
  },
  {
   "cell_type": "code",
   "execution_count": 59,
   "metadata": {},
   "outputs": [
    {
     "data": {
      "text/plain": [
       "<Axes: >"
      ]
     },
     "execution_count": 59,
     "metadata": {},
     "output_type": "execute_result"
    },
    {
     "data": {
      "image/png": "[encoded data removed]",
      "text/plain": [
       "<Figure size 1500x1000 with 1 Axes>"
      ]
     },
     "metadata": {},
     "output_type": "display_data"
    }
   ],
   "source": [
    "pd.Series(tfidf_model.feature_importances_, index = tf_idf.vocabulary_).sort_values().tail(20).plot.barh(figsize = (15, 10))"
   ]
  },
  {
   "cell_type": "markdown",
   "metadata": {},
   "source": [
    "Que estas sean las palabras más relevantes identificados por el modelo a la hora de encontrar noticias falsa nos puede decir muchas cosas sobre el lenguaje usado en este tipo de noticias. Por un lado, estas palabras (maidán, ratificados, articulado, píriz, sancionado, jordis, begoña) sugieren un contexto político o de controversia, lo cual puede causar muchas emociones y polarización. Por otro lado, palabras como psicópatas, ilusiones, arrojadiza, afables… también generan emociones muy fuertes, lo cual puede usarse para manipular a una audiencia"
   ]
  },
  {
   "cell_type": "code",
   "execution_count": 60,
   "metadata": {},
   "outputs": [
    {
     "name": "stdout",
     "output_type": "stream",
     "text": [
      "Number of trees: 100\n",
      "Trees depth (mean): 822.91\n"
     ]
    }
   ],
   "source": [
    "import numpy as np\n",
    "\n",
    "\n",
    "tfidf_estimators = tfidf_model.estimators_\n",
    "print('Number of trees:', len(tfidf_estimators))\n",
    "print('Trees depth (mean):', np.mean([tree.get_depth() for tree in tfidf_estimators]))"
   ]
  },
  {
   "cell_type": "code",
   "execution_count": 61,
   "metadata": {},
   "outputs": [],
   "source": [
    "y_train_predict = tfidf_model.predict(X_tfidf)\n",
    "y_test_predict = tfidf_model.predict(tf_idf.transform(X_test))"
   ]
  },
  {
   "cell_type": "code",
   "execution_count": 62,
   "metadata": {},
   "outputs": [
    {
     "data": {
      "text/plain": [
       "<sklearn.metrics._plot.confusion_matrix.ConfusionMatrixDisplay at 0x16ac3563c40>"
      ]
     },
     "execution_count": 62,
     "metadata": {},
     "output_type": "execute_result"
    },
    {
     "data": {
      "image/png": "[encoded data removed]",
      "text/plain": [
       "<Figure size 640x480 with 2 Axes>"
      ]
     },
     "metadata": {},
     "output_type": "display_data"
    }
   ],
   "source": [
    "ConfusionMatrixDisplay.from_predictions(y_train, y_train_predict)"
   ]
  },
  {
   "cell_type": "code",
   "execution_count": 63,
   "metadata": {},
   "outputs": [
    {
     "data": {
      "text/plain": [
       "<sklearn.metrics._plot.confusion_matrix.ConfusionMatrixDisplay at 0x16a82e91480>"
      ]
     },
     "execution_count": 63,
     "metadata": {},
     "output_type": "execute_result"
    },
    {
     "data": {
      "image/png": "[encoded data removed]",
      "text/plain": [
       "<Figure size 640x480 with 2 Axes>"
      ]
     },
     "metadata": {},
     "output_type": "display_data"
    }
   ],
   "source": [
    "ConfusionMatrixDisplay.from_predictions(y_test, y_test_predict)"
   ]
  },
  {
   "cell_type": "markdown",
   "metadata": {},
   "source": [
    "La matriz de confusión revela que el modelo de clasificación tiene un buen desempeño en la identificación de noticias falsas porque logra un alto número de verdaderos positivos. Sin embargo, también presenta dificultades para clasificar correctamente noticias no falsas, con un número considerable de falsos positivos"
   ]
  },
  {
   "cell_type": "code",
   "execution_count": 64,
   "metadata": {},
   "outputs": [
    {
     "name": "stdout",
     "output_type": "stream",
     "text": [
      "Exactitud: 0.83\n",
      "Recall: 0.9383514986376021\n",
      "Precisión: 0.8022714036109493\n",
      "Puntuación F1: 0.8649921507064364\n"
     ]
    }
   ],
   "source": [
    "print('Exactitud: %.2f' % accuracy_score(y_test, y_test_predict))\n",
    "print(\"Recall: {}\".format(recall_score(y_test,y_test_predict)))\n",
    "print(\"Precisión: {}\".format(precision_score(y_test,y_test_predict)))\n",
    "print(\"Puntuación F1: {}\".format(f1_score(y_test,y_test_predict)))"
   ]
  },
  {
   "cell_type": "markdown",
   "metadata": {},
   "source": [
    "Este modelo de clasificación Random Forest con vectorización TF-IDF presenta un rendimiento sólido con una precisión del 78,2%, una exactitud del 81%, un recall del 92,8% y un F1-score del 84,9%. El alto recall indica que el modelo es muy bueno para identificar la mayoría de los casos positivos reales, mientras que la precisión y la exactitud sugieren que también es relativamente bueno para evitar falsos positivos y clasificar correctamente instancias en general. El F1-score confirma el buen equilibrio entre precisión y recall. También se puede resaltar que estos datos nos indican que no hay un sobreajuste. En resumen, el modelo demuestra un rendimiento bueno para tareas de clasificación aunque haya posibilidades de mejora."
   ]
  },
  {
   "cell_type": "markdown",
   "metadata": {},
   "source": [
    "## 4.2 Red Neuronal (Mariana Ortega)"
   ]
  },
  {
   "cell_type": "markdown",
   "metadata": {},
   "source": [
    "Hemos optado por una Red Neuronal con capas LSTM debido a varias ventajas clave. En primer lugar, estas redes capturan la relación semántica y secuencial del texto, lo que permite comprender el significado contextual de manera efectiva. Además, pueden aprender de grandes volúmenes de datos, mejorando su rendimiento a medida que se entrenan con más ejemplos. "
   ]
  },
  {
   "cell_type": "code",
   "execution_count": 65,
   "metadata": {},
   "outputs": [
    {
     "name": "stdout",
     "output_type": "stream",
     "text": [
      "X_train tiene 39710 registros\n",
      "X_test tiene 9928 registros\n"
     ]
    }
   ],
   "source": [
    "from sklearn.model_selection import train_test_split\n",
    "\n",
    "# Dividir los datos en entrenamiento y prueba\n",
    "X_train, X_test, y_train, y_test = train_test_split(\n",
    "    data[\"words\"],  # Usamos la columna preprocesada\n",
    "    data[\"Label\"],  # La etiqueta binaria\n",
    "    test_size=0.2, \n",
    "    stratify=data[\"Label\"], \n",
    "    random_state=1\n",
    ")\n",
    "\n",
    "# Verificar que la división fue correcta\n",
    "print(f\"X_train tiene {len(X_train)} registros\")\n",
    "print(f\"X_test tiene {len(X_test)} registros\")"
   ]
  },
  {
   "cell_type": "markdown",
   "metadata": {},
   "source": [
    "Antes de entrenar la red neuronal, es necesario dividir los datos en conjunto de entrenamiento y conjunto de prueba. Esto nos permitirá evaluar el rendimiento del modelo en datos no vistos. Utilizamos train_test_split para dividir nuestros datos en conjuntos de entrenamiento (80%) y prueba (20%). Esta división incluye la opción stratify=data[\"Label\"], lo que nos permite mantener el equilibrio entre las clases, evitando así cualquier sesgo en el modelo. Además, al establecer random_state=1, aseguramos que los resultados sean reproducibles en futuras ejecuciones del modelo."
   ]
  },
  {
   "cell_type": "code",
   "execution_count": 66,
   "metadata": {},
   "outputs": [
    {
     "name": "stdout",
     "output_type": "stream",
     "text": [
      "X_train_transformed shape: (39710, 54604)\n",
      "X_test_transformed shape: (9928, 54604)\n"
     ]
    }
   ],
   "source": [
    "from sklearn.feature_extraction.text import TfidfVectorizer\n",
    "\n",
    "# Inicializar el vectorizador\n",
    "vectorizer = TfidfVectorizer()\n",
    "\n",
    "# Ajustar y transformar los datos de entrenamiento\n",
    "X_train_transformed = vectorizer.fit_transform(X_train)\n",
    "\n",
    "# Solo transformamos los datos de prueba sin volver a ajustar\n",
    "X_test_transformed = vectorizer.transform(X_test)\n",
    "\n",
    "# Mostrar el tamaño del vector\n",
    "print(f\"X_train_transformed shape: {X_train_transformed.shape}\")\n",
    "print(f\"X_test_transformed shape: {X_test_transformed.shape}\")"
   ]
  },
  {
   "cell_type": "markdown",
   "metadata": {},
   "source": [
    "Las redes neuronales no pueden trabajar directamente con texto, por lo que convertimos las palabras en vectores numéricos usando TF-IDF. Elegimos TfidfVectorizer por varias razones importantes. En primer lugar, reduce la influencia de palabras comunes al asignar pesos más altos a aquellas que son verdaderamente importantes en el contexto. Finalmente, transforma las palabras en representaciones numéricas que pueden ser interpretadas directamente por la red neuronal."
   ]
  },
  {
   "cell_type": "code",
   "execution_count": 67,
   "metadata": {},
   "outputs": [],
   "source": [
    "from sklearn.neural_network import MLPClassifier\n",
    "\n",
    "# Definir el modelo con los mejores hiperparámetros encontrados\n",
    "model = MLPClassifier(\n",
    "    alpha=1e-5, \n",
    "    random_state=777, \n",
    "    activation='logistic', \n",
    "    solver='lbfgs', \n",
    "    learning_rate='adaptive', \n",
    "    max_iter=1000\n",
    ")\n",
    "\n",
    "# Entrenar el modelo con los datos vectorizados\n",
    "model.fit(X_train_transformed, y_train)\n",
    "\n",
    "# Predecir en el conjunto de prueba\n",
    "y_pred_test = model.predict(X_test_transformed)"
   ]
  },
  {
   "cell_type": "markdown",
   "metadata": {},
   "source": [
    "Hemos optado por una Red Neuronal de tipo MLPClassifier, un Perceptrón Multicapa capaz de capturar patrones complejos. En nuestro modelo, cada parámetro tiene un papel específico. alpha=1e-5 evita el sobreajuste penalizando pesos grandes. La función de activación 'logistic' utiliza la función sigmoide para convertir valores en probabilidades. El algoritmo de optimización 'lbfgs' ajusta los pesos eficientemente, mientras que el learning_rate='adaptive' reduce la tasa de aprendizaje a medida que mejora el modelo. Finalmente, se limitan las iteraciones con max_iter=1000, definiendo cuántas veces se ajustarán los pesos durante el entrenamiento."
   ]
  },
  {
   "cell_type": "code",
   "execution_count": 68,
   "metadata": {},
   "outputs": [
    {
     "name": "stdout",
     "output_type": "stream",
     "text": [
      "🔹 Accuracy: 0.7730\n",
      "🔹 Precision: 0.8031\n",
      "🔹 Recall: 0.8162\n",
      "🔹 F1 Score: 0.8096\n",
      "\n",
      " Clasificación por categoría:\n",
      "              precision    recall  f1-score   support\n",
      "\n",
      "           0       0.73      0.71      0.72      4056\n",
      "           1       0.80      0.82      0.81      5872\n",
      "\n",
      "    accuracy                           0.77      9928\n",
      "   macro avg       0.77      0.76      0.76      9928\n",
      "weighted avg       0.77      0.77      0.77      9928\n",
      "\n"
     ]
    }
   ],
   "source": [
    "from sklearn.metrics import accuracy_score, precision_score, recall_score, f1_score, classification_report\n",
    "\n",
    "# Calcular métricas\n",
    "accuracy = accuracy_score(y_test, y_pred_test)\n",
    "precision = precision_score(y_test, y_pred_test)\n",
    "recall = recall_score(y_test, y_pred_test)\n",
    "f1 = f1_score(y_test, y_pred_test)\n",
    "\n",
    "# Mostrar resultados\n",
    "print(f\"🔹 Accuracy: {accuracy:.4f}\")\n",
    "print(f\"🔹 Precision: {precision:.4f}\")\n",
    "print(f\"🔹 Recall: {recall:.4f}\")\n",
    "print(f\"🔹 F1 Score: {f1:.4f}\")\n",
    "\n",
    "# Reporte detallado\n",
    "print(\"\\n Clasificación por categoría:\")\n",
    "print(classification_report(y_test, y_pred_test))"
   ]
  },
  {
   "cell_type": "markdown",
   "metadata": {},
   "source": [
    "*Precisión alta (0.81) significa que cuando el modelo predice que una noticia es falsa, es correcta el 81% de las veces.\n",
    "\n",
    "*Recall alto (0.82) significa que el modelo detecta 82% de las noticias falsas en el conjunto de prueba.\n",
    "\n",
    "*F1 Score (0.81) indica que el modelo balancea bien precisión y recall, lo que es clave en tareas de clasificación de texto.\n",
    "\n",
    "*Accuracy (77.7%) muestra que, en general, el modelo clasifica correctamente casi 8 de cada 10 noticias."
   ]
  },
  {
   "cell_type": "code",
   "execution_count": 69,
   "metadata": {},
   "outputs": [
    {
     "data": {
      "image/png": "[encoded data removed]",
      "text/plain": [
       "<Figure size 640x480 with 2 Axes>"
      ]
     },
     "metadata": {},
     "output_type": "display_data"
    }
   ],
   "source": [
    "from sklearn.metrics import confusion_matrix, ConfusionMatrixDisplay\n",
    "\n",
    "# Generar matriz de confusión\n",
    "cm = confusion_matrix(y_test, y_pred_test)\n",
    "disp = ConfusionMatrixDisplay(confusion_matrix=cm, display_labels=model.classes_)\n",
    "disp.plot(cmap=plt.cm.Blues)\n",
    "plt.show()"
   ]
  },
  {
   "cell_type": "markdown",
   "metadata": {},
   "source": [
    "Verdaderos positivos (TP = 4816): Noticias reales correctamente clasificadas. Verdaderos negativos (TN = 2902): Noticias falsas correctamente clasificadas. Falsos positivos (FP = 1056): Noticias reales que fueron clasificadas erróneamente como falsas. Falsos negativos (FN = 1154): Noticias falsas que fueron clasificadas erróneamente como verdaderas.\n",
    "\n",
    "El modelo logra clasificar correctamente el 81.6% de las noticias verdaderas y el 71.5% de las noticias falsas, lo que indica un buen rendimiento general, pero con margen de mejora en la detección de noticias falsas. Es decir que es más efectivo detectando noticias reales que falsas."
   ]
  },
  {
   "cell_type": "markdown",
   "metadata": {},
   "source": [
    "# 4.3 KNN(Alejandro Lancheros)"
   ]
  },
  {
   "cell_type": "markdown",
   "metadata": {},
   "source": [
    "K-Nearest Neighbors (K-NN) es un método de aprendizaje supervisado empleado tanto en clasificación como en regresión. Su fundamento principal radica en que los elementos con características similares suelen estar próximos entre sí dentro del espacio de características. Funciona almacenando todos los datos de entrenamiento, cuando se necesita hacer una predicción, calcula la distancia entre el nuevo punto y todos los puntos del conjunto de datos. Luego, selecciona los k vecinos más cercanos, en el caso de clasificación asigna la clase más común entre ellos, mientras que en regresión toma el promedio de sus valores. Su rendimiento depende del número de vecinos k, la métrica de distancia utilizada y la escala de los datos, siendo un algoritmo intuitivo pero costoso en términos de cómputo para grandes volúmenes de datos."
   ]
  },
  {
   "cell_type": "code",
   "execution_count": 70,
   "metadata": {},
   "outputs": [],
   "source": [
    "# TF-IDF con n-gramas\n",
    "vectorizer_tfidf = TfidfVectorizer(ngram_range=(1, 3))\n",
    "X_train_tfidf = vectorizer_tfidf.fit_transform(X_train)\n",
    "X_test_tfidf = vectorizer_tfidf.transform(X_test)"
   ]
  },
  {
   "cell_type": "markdown",
   "metadata": {},
   "source": [
    "Para este caso en particular, se opto por utilizar una representación del texto con vectorizacion TF-IDF, esto debido que analizando el contexto del problema podemos resaltar términos distintivos en noticias falsas y hacer uso de n-gramas para capturar mejor el contexto, ademas de poder diferenciar palabras poco informativas."
   ]
  },
  {
   "cell_type": "code",
   "execution_count": 71,
   "metadata": {},
   "outputs": [],
   "source": [
    "from sklearn.neighbors import KNeighborsClassifier\n",
    "from sklearn.metrics import classification_report, accuracy_score"
   ]
  },
  {
   "cell_type": "code",
   "execution_count": 72,
   "metadata": {},
   "outputs": [
    {
     "name": "stdout",
     "output_type": "stream",
     "text": [
      "========================================\n",
      "  Resultados del modelo KNN con TF-IDF  \n",
      "========================================\n",
      "\n",
      "Métricas de evaluación:\n",
      "\n",
      "              precision    recall  f1-score   support\n",
      "\n",
      "           0       0.66      0.59      0.63      4056\n",
      "           1       0.74      0.79      0.76      5872\n",
      "\n",
      "    accuracy                           0.71      9928\n",
      "   macro avg       0.70      0.69      0.70      9928\n",
      "weighted avg       0.71      0.71      0.71      9928\n",
      "\n",
      "----------------------------------------\n",
      "Exactitud (Accuracy): 0.7108\n",
      "========================================\n"
     ]
    }
   ],
   "source": [
    "# Definir y entrenar el modelo KNN con TF-IDF\n",
    "knn_tfidf = KNeighborsClassifier(n_neighbors=5)  # Número de vecinos ajustable\n",
    "knn_tfidf.fit(X_train_tfidf, y_train)  # Entrenamiento del modelo\n",
    "\n",
    "# Predicción con el conjunto de prueba\n",
    "y_pred_tfidf_knn = knn_tfidf.predict(X_test_tfidf)\n",
    "\n",
    "# Evaluar el modelo\n",
    "print(\"=\" * 40)\n",
    "print(\"  Resultados del modelo KNN con TF-IDF  \")\n",
    "print(\"=\" * 40)\n",
    "print(\"\\nMétricas de evaluación:\\n\")\n",
    "print(classification_report(y_test, y_pred_tfidf_knn))\n",
    "print(\"-\" * 40)\n",
    "print(f\"Exactitud (Accuracy): {accuracy_score(y_test, y_pred_tfidf_knn):.4f}\")\n",
    "print(\"=\" * 40)"
   ]
  },
  {
   "cell_type": "markdown",
   "metadata": {},
   "source": [
    "Obteniendo los resultados observamos que el modelo para la clase 0 acierta el 66% de las veces, de todos los casos reales de \"0\", el modelo solo detecta correctamente el 59%, se identifica un recall bajo, lo que significa que el modelo no esta detectando todos los cases correctamente.\n",
    "\n",
    "Para la clase clase 1, se obtuvo un acierto del 74% en presicion, 79% en recall y un 76% F1-score, lo cual indica un buen equilibrio entre presicion y recall.\n",
    "\n",
    "Notese que la clase 1 tiene mejores métricas que la clase 0, lo que sugiere que el modelo favorece esta categoría. Ademas, el tiempo de ejecucion del modelo fue elevado, como alternativa se opta por escalar los datos antes de usar KNN, ya que este algoritmo se basa en distancias y las características con valores más grandes pueden dominar el cálculo de distancia. Se va a realizar el escalamiento al grupos de datos y observar si mejora el modelo. Este proceso de escalado asegura que todas las características estén en una escala comparable."
   ]
  },
  {
   "cell_type": "code",
   "execution_count": 73,
   "metadata": {},
   "outputs": [],
   "source": [
    "from sklearn.preprocessing import StandardScaler\n",
    "\n",
    "scaler = StandardScaler(with_mean=False)  \n",
    "\n",
    "# Escalamiento\n",
    "X_train_tfidf_scaled = scaler.fit_transform(X_train_tfidf)\n",
    "X_test_tfidf_scaled = scaler.transform(X_test_tfidf)"
   ]
  },
  {
   "cell_type": "code",
   "execution_count": 74,
   "metadata": {},
   "outputs": [
    {
     "name": "stdout",
     "output_type": "stream",
     "text": [
      "==================================================\n",
      "  Resultados KNN con TF-IDF escalado (Métrica: Coseno)\n",
      "==================================================\n",
      "\n",
      "Métricas de evaluación:\n",
      "\n",
      "              precision    recall  f1-score   support\n",
      "\n",
      "           0       0.58      0.47      0.52      4056\n",
      "           1       0.67      0.76      0.72      5872\n",
      "\n",
      "    accuracy                           0.64      9928\n",
      "   macro avg       0.63      0.62      0.62      9928\n",
      "weighted avg       0.63      0.64      0.63      9928\n",
      "\n",
      "--------------------------------------------------\n",
      "Exactitud (Accuracy): 0.6421\n",
      "==================================================\n"
     ]
    }
   ],
   "source": [
    "# KNN con TF-IDF escalado usando métrica de coseno\n",
    "knn_tfidf_scaled = KNeighborsClassifier(n_neighbors=5, metric='cosine')  # Ajustar vecinos si es necesario\n",
    "knn_tfidf_scaled.fit(X_train_tfidf_scaled, y_train)  # Entrenamiento del modelo\n",
    "\n",
    "# Predicción con el conjunto de prueba\n",
    "y_pred_tfidf_knn_scaled = knn_tfidf_scaled.predict(X_test_tfidf_scaled)\n",
    "\n",
    "# Mostrar resultados con formato uniforme\n",
    "print(\"=\" * 50)\n",
    "print(\"  Resultados KNN con TF-IDF escalado (Métrica: Coseno)\")\n",
    "print(\"=\" * 50)\n",
    "print(\"\\nMétricas de evaluación:\\n\")\n",
    "print(classification_report(y_test, y_pred_tfidf_knn_scaled))\n",
    "print(\"-\" * 50)\n",
    "print(f\"Exactitud (Accuracy): {accuracy_score(y_test, y_pred_tfidf_knn_scaled):.4f}\")\n",
    "print(\"=\" * 50)"
   ]
  },
  {
   "cell_type": "markdown",
   "metadata": {},
   "source": [
    "Se opto por aplicar un escalado con metrica 'cosine' la cual funciona bien en datos textuales, sin embargo, los resultados del rendimiento del modelo empeoraron, esto nos puede indicar que un escalado no era necesario ya que TF-IDF ya normaliza los datos de cierta forma, por lo que aplicar otro escalado perjudica el rendimiento. Para intentar mejorar el modelo se intenta usar GridSearch para encontrar el mejor valor de vecinos, es decir, el que mejore el valor de accuracy del modelo y de esta manera poder de mejorar el modelo en general."
   ]
  },
  {
   "cell_type": "code",
   "execution_count": 75,
   "metadata": {},
   "outputs": [
    {
     "name": "stdout",
     "output_type": "stream",
     "text": [
      "==================================================\n",
      "  Mejor número de vecinos: {'metric': 'cosine', 'n_neighbors': 21}\n",
      "==================================================\n",
      "\n",
      "  Resultados KNN con TF-IDF no escalado\n",
      "==================================================\n",
      "\n",
      "Métricas de evaluación:\n",
      "\n",
      "              precision    recall  f1-score   support\n",
      "\n",
      "           0       0.84      0.62      0.72      4056\n",
      "           1       0.78      0.92      0.84      5872\n",
      "\n",
      "    accuracy                           0.80      9928\n",
      "   macro avg       0.81      0.77      0.78      9928\n",
      "weighted avg       0.81      0.80      0.79      9928\n",
      "\n",
      "--------------------------------------------------\n",
      "Exactitud (Accuracy): 0.7988\n",
      "==================================================\n"
     ]
    }
   ],
   "source": [
    "from sklearn.model_selection import GridSearchCV\n",
    "\n",
    "# Definir los parámetros para ajustar\n",
    "param_grid = {\n",
    "    'n_neighbors': [11, 13, 15, 17, 19, 21], \n",
    "    'metric': ['cosine'] \n",
    "}\n",
    "\n",
    "# Usar GridSearchCV para encontrar el mejor número de vecinos\n",
    "grid_knn_no_scaled = GridSearchCV(KNeighborsClassifier(), param_grid, cv=5, scoring='accuracy')\n",
    "grid_knn_no_scaled.fit(X_train_tfidf, y_train)\n",
    "\n",
    "# Obtener el mejor modelo\n",
    "best_knn_no_scaled = grid_knn_no_scaled.best_estimator_\n",
    "\n",
    "# Predicción con el conjunto de prueba\n",
    "y_pred_best_knn_no_scaled = best_knn_no_scaled.predict(X_test_tfidf)\n",
    "\n",
    "# Mostrar los resultados en el mismo formato\n",
    "print(\"=\" * 50)\n",
    "print(f\"  Mejor número de vecinos: {grid_knn_no_scaled.best_params_}\")\n",
    "print(\"=\" * 50)\n",
    "print(\"\\n  Resultados KNN con TF-IDF no escalado\")\n",
    "print(\"=\" * 50)\n",
    "print(\"\\nMétricas de evaluación:\\n\")\n",
    "print(classification_report(y_test, y_pred_best_knn_no_scaled))\n",
    "print(\"-\" * 50)\n",
    "print(f\"Exactitud (Accuracy): {accuracy_score(y_test, y_pred_best_knn_no_scaled):.4f}\")\n",
    "print(\"=\" * 50)"
   ]
  },
  {
   "cell_type": "markdown",
   "metadata": {},
   "source": [
    "Como se observa se pudo mejorar de manera significativa los valores sobre el rendimiento del modelo. GridSearchCV divide los datos de entrenamiento en varias particiones (folds). El modelo se entrena en algunas particiones y se valida en otras. Este proceso se repite para cada valor de n_neighbors y para cada fold, calculando la métrica de evaluación (en este caso, exactitud o accuracy). Eso quiere decir que un numero 21 de vecinos es el que mejores resultados tiene al hacer el promedio de aplicar el modelo con cada número de vecinos con distintas distribuciones de los datos."
   ]
  },
  {
   "cell_type": "code",
   "execution_count": 76,
   "metadata": {},
   "outputs": [
    {
     "data": {
      "image/png": "[encoded data removed]",
      "text/plain": [
       "<Figure size 800x600 with 2 Axes>"
      ]
     },
     "metadata": {},
     "output_type": "display_data"
    }
   ],
   "source": [
    "cm = confusion_matrix(y_test, y_pred_best_knn_no_scaled)\n",
    "\n",
    "# Crear el heatmap\n",
    "plt.figure(figsize=(8, 6))\n",
    "sns.heatmap(cm, annot=True, fmt=\"d\", cmap=\"Blues\", xticklabels=[\"Falsa\", \"Verdadera\"], yticklabels=[\"Falsa\", \"Verdadera\"])\n",
    "plt.title(\"Matriz de Confusión - KNN con TF-IDF No Escalado- prueba\")\n",
    "plt.xlabel(\"Etiquetas Predichas\")\n",
    "plt.ylabel(\"Etiquetas Verdaderas\")\n",
    "plt.show()"
   ]
  },
  {
   "cell_type": "markdown",
   "metadata": {},
   "source": [
    "La matriz de confusión revela que el modelo presenta 2525 noticias falsas correctamente clasificadas como falsas, 1531 noticias falsas que fueron clasificadas erróneamente como verdadera, 467 noticias verdaderas clasificadas erróneamente como falsas y 5405 noticias verdaderas correctamente clasificadas como verdaderas. Lo que indica que el 77.9% de las noticias predichas como \"Verdaderas\" realmente lo son, el modelo detectó correctamente el 92% de las noticias verdaderas y el modelo clasifica correctamente el 84% de las noticias en total.\n",
    "\n",
    "Como conclusion El modelo tiene buena capacidad para detectar noticias verdaderas, sin embargo, Comete bastantes falsos positivos clasificando noticias falsas como verdaderas. se concluye que si bien el modelo no da una mala prediccion, se pueden optar por modelos mas enfocados a textos como random forest o SVM."
   ]
  },
  {
   "cell_type": "markdown",
   "metadata": {},
   "source": [
    "# 5. Analisis y Recomendaciones"
   ]
  },
  {
   "cell_type": "markdown",
   "metadata": {},
   "source": [
    "## 5.1 Analisis de palabras"
   ]
  },
  {
   "cell_type": "code",
   "execution_count": 110,
   "metadata": {},
   "outputs": [
    {
     "name": "stderr",
     "output_type": "stream",
     "text": [
      "C:\\Users\\Mariana\\AppData\\Local\\Temp\\ipykernel_8112\\168735921.py:19: FutureWarning: \n",
      "\n",
      "Passing `palette` without assigning `hue` is deprecated and will be removed in v0.14.0. Assign the `y` variable to `hue` and set `legend=False` for the same effect.\n",
      "\n",
      "  sns.barplot(x='Frecuencia', y='Palabra', data=df_fake_words, palette='Reds')\n"
     ]
    },
    {
     "data": {
      "image/png": "[encoded data removed]",
      "text/plain": [
       "<Figure size 1200x500 with 1 Axes>"
      ]
     },
     "metadata": {},
     "output_type": "display_data"
    },
    {
     "name": "stderr",
     "output_type": "stream",
     "text": [
      "C:\\Users\\Mariana\\AppData\\Local\\Temp\\ipykernel_8112\\168735921.py:24: FutureWarning: \n",
      "\n",
      "Passing `palette` without assigning `hue` is deprecated and will be removed in v0.14.0. Assign the `y` variable to `hue` and set `legend=False` for the same effect.\n",
      "\n",
      "  sns.barplot(x='Frecuencia', y='Palabra', data=df_real_words, palette='Blues')\n"
     ]
    },
    {
     "data": {
      "image/png": "[encoded data removed]",
      "text/plain": [
       "<Figure size 1200x500 with 1 Axes>"
      ]
     },
     "metadata": {},
     "output_type": "display_data"
    }
   ],
   "source": [
    "from collections import Counter\n",
    "import seaborn as sns\n",
    "import matplotlib.pyplot as plt\n",
    "\n",
    "# Extraer las palabras de las noticias falsas y verdaderas\n",
    "news_fake = data[data['Label'] == 0]['words'].str.cat(sep=' ')\n",
    "news_real = data[data['Label'] == 1]['words'].str.cat(sep=' ')\n",
    "\n",
    "# Contar las palabras más comunes en cada categoría\n",
    "fake_words_freq = Counter(news_fake.split()).most_common(20)\n",
    "real_words_freq = Counter(news_real.split()).most_common(20)\n",
    "\n",
    "# Convertir a DataFrame para visualización\n",
    "df_fake_words = pd.DataFrame(fake_words_freq, columns=['Palabra', 'Frecuencia'])\n",
    "df_real_words = pd.DataFrame(real_words_freq, columns=['Palabra', 'Frecuencia'])\n",
    "\n",
    "# Graficar las palabras más frecuentes en noticias falsas y verdaderas\n",
    "plt.figure(figsize=(12, 5))\n",
    "sns.barplot(x='Frecuencia', y='Palabra', data=df_fake_words, palette='Reds')\n",
    "plt.title(\"Palabras más frecuentes en noticias falsas\")\n",
    "plt.show()\n",
    "\n",
    "plt.figure(figsize=(12, 5))\n",
    "sns.barplot(x='Frecuencia', y='Palabra', data=df_real_words, palette='Blues')\n",
    "plt.title(\"Palabras más frecuentes en noticias verdaderas\")\n",
    "plt.show()"
   ]
  },
  {
   "cell_type": "markdown",
   "metadata": {},
   "source": [
    "En las Noticias Falsas:\n",
    "\n",
    "* \"per\", \"vers\", \"mas\": Estas palabras pueden indicar manipulaciones o amplificaciones en las noticias falsas.\n",
    "\n",
    "* \"gobiern\", \"gobierno\": La polít|ica es un tema predominante en las noticias falsas, a menudo relacionado con declaraciones o eventos gubernamentales.\n",
    "\n",
    "* \"president\", \"catalunya\", \"cataluny\": Las noticias sobre Cataluña son comunes, lo que sugiere una posible desinformación dirigida hacia esta región.\n",
    "\n",
    "* \"iniciativa\", \"equo\", \"pp\", \"coalicion\": La mención de partidos políticos y coaliciones implica que las noticias falsas buscan influir en la opinión pública sobre estas agrupaciones.\n",
    "\n",
    "* \"bng\", \"eajpnv\": Estos nombres de partidos políticos refuerzan la idea de que las noticias falsas se centran en moldear narrativas políticas."
   ]
  },
  {
   "cell_type": "markdown",
   "metadata": {},
   "source": [
    "Las noticias falsas parecen centrarse en cuestiones políticas, destacando gobiernos, presidentes y coaliciones. Esto implica que su propósito podría ser influir en la opinión pública durante eventos políticos significativos."
   ]
  },
  {
   "cell_type": "markdown",
   "metadata": {},
   "source": [
    "en las Noticias Verdaderas:\n",
    "\n",
    "* \"pp\", \"mas\", \"gobiern\", \"gobierno\": Al igual que en las noticias falsas, la política sigue siendo un tema central, pero en este caso se observa una mayor referencia a nombres de partidos políticos.\n",
    "\n",
    "* \"president\", \"sanchez\", \"vox\": A diferencia de las noticias falsas, en las verdaderas aparecen nombres específicos de figuras políticas, lo que sugiere que en estas noticias se presentan declaraciones reales de políticos.\n",
    "\n",
    "* \"tras\", \"anos\", \"ser\", \"social\": Indican que las noticias verdaderas suelen tener un enfoque más descriptivo y basado en hechos históricos o sociales.\n",
    "\n",
    "* \"ley\", \"formacion\", \"partido\", \"presidente\": Se observa que las noticias verdaderas incluyen términos relacionados con estructuras legales y políticas, lo que sugiere un enfoque más analítico y explicativo.\n",
    "\n",
    "* \"public\": Indica que las noticias verdaderas pueden tener un enfoque en políticas públicas, transparencia y temas de interés ciudadano."
   ]
  },
  {
   "cell_type": "markdown",
   "metadata": {},
   "source": [
    "## 5.2 Estrategias para la Organización"
   ]
  },
  {
   "cell_type": "markdown",
   "metadata": {},
   "source": [
    "Tomando en cuenta el analisis anterior del filtro de las palabras negativas y positivas. Ahora bien se le recomienda las estrategias que la organización debe abordar: "
   ]
  },
  {
   "cell_type": "markdown",
   "metadata": {},
   "source": [
    "1. Monitoreo y Detección Temprana\n",
    "\n",
    "Objetivo: Identificar patrones sospechosos en noticias.\n",
    "\n",
    "Implementar un sistema de NLP: Monitorear palabras clave frecuentes en noticias falsas.\n",
    "\n",
    "Establecer alertas: Activarlas cuando ciertos términos aparezcan junto a lenguaje polarizado."
   ]
  },
  {
   "cell_type": "markdown",
   "metadata": {},
   "source": [
    "2. Verificación de Fuentes\n",
    "\n",
    "Objetivo: Validar la autenticidad de las noticias antes de su difusión.\n",
    "\n",
    "Comparación con bases confiables: Utilizar herramientas de fact-checking para verificar información.\n",
    "\n",
    "Protocolos de revisión: Establecer procedimientos para revisar noticias con términos politizados."
   ]
  },
  {
   "cell_type": "markdown",
   "metadata": {},
   "source": [
    "3. Educación y Concienciación\n",
    "\n",
    "Objetivo: Capacitar a empleados y usuarios en identificación de desinformación.\n",
    "\n",
    "Talleres sobre fact-checking: Desarrollar sesiones educativas sobre manipulación informativa.\n",
    "\n",
    "Botón de alerta: Implementarlo para reportar noticias sospechosas."
   ]
  },
  {
   "cell_type": "markdown",
   "metadata": {},
   "source": [
    "4. Optimización del Modelo\n",
    "\n",
    "Objetivo: Mejorar la precisión en la detección de noticias falsas.\n",
    "\n",
    "Ajustes al modelo: Dar más peso a palabras clave relevantes durante el entrenamiento.\n",
    "\n",
    "Técnicas avanzadas como Word2Vec: Utilizar métodos sofisticados para mejorar la detección."
   ]
  }
 ],
 "metadata": {
  "kernelspec": {
   "display_name": "Python 3 (ipykernel)",
   "language": "python",
   "name": "python3"
  },
  "language_info": {
   "codemirror_mode": {
    "name": "ipython",
    "version": 3
   },
   "file_extension": ".py",
   "mimetype": "text/x-python",
   "name": "python",
   "nbconvert_exporter": "python",
   "pygments_lexer": "ipython3",
   "version": "3.13.1"
  }
 },
 "nbformat": 4,
 "nbformat_minor": 2
}
